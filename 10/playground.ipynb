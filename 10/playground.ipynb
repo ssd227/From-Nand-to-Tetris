{
 "cells": [
  {
   "cell_type": "code",
   "execution_count": null,
   "metadata": {},
   "outputs": [],
   "source": [
    "import re\n",
    "\n",
    "pattern = r'//.*'\n",
    "text = '这是一个包含//的字符串'\n",
    "\n",
    "match = re.search(pattern, text)\n",
    "\n",
    "if match:\n",
    "    print('找到匹配：', match.group())\n",
    "else:\n",
    "    print('未找到匹配')"
   ]
  },
  {
   "cell_type": "code",
   "execution_count": null,
   "metadata": {},
   "outputs": [],
   "source": [
    "pattern = r'/\\*.*?\\*/'\n",
    "text = '这是一个包含/* 注释内容 */的字符串'\n",
    "\n",
    "matches = re.findall(pattern, text)\n",
    "\n",
    "if matches:\n",
    "    for match in matches:\n",
    "        print('找到匹配：', match)\n",
    "else:\n",
    "    print('未找到匹配')"
   ]
  },
  {
   "cell_type": "code",
   "execution_count": 2,
   "metadata": {},
   "outputs": [
    {
     "name": "stdout",
     "output_type": "stream",
     "text": [
      "替换后的字符串： 这是一个包含的字符串\n"
     ]
    }
   ],
   "source": [
    "import re\n",
    "\n",
    "pattern = r'/\\*.*?\\*/'\n",
    "text = '这是一个包含/* 注释内容 */的字符串'\n",
    "\n",
    "new_text = re.sub(pattern, '', text)\n",
    "\n",
    "print('替换后的字符串：', new_text)"
   ]
  },
  {
   "cell_type": "code",
   "execution_count": 27,
   "metadata": {},
   "outputs": [],
   "source": [
    "def remove_command(line):\n",
    "    # 规则1:  //\n",
    "    re1 = r'//.*'\n",
    "    line = re.sub(re1, '', line) \n",
    "    # line = line.split(r'//')[0] # 简单的操作\n",
    "    \n",
    "    # 规则2: /* */ 或 /** */\n",
    "    re2 = r'/\\*.*?\\*/'\n",
    "    line = re.sub(re2, '', line, flags=re.S)\n",
    "    \n",
    "    # 规则3:掐头去尾\n",
    "    line = line.strip()\n",
    "    \n",
    "    return line "
   ]
  },
  {
   "cell_type": "code",
   "execution_count": 28,
   "metadata": {},
   "outputs": [
    {
     "name": "stdout",
     "output_type": "stream",
     "text": [
      "xxx\n",
      "xxx  zzz\n",
      "xxx cccc bbbb  zzz\n",
      "xxx cccc bbbb  zzz\n"
     ]
    }
   ],
   "source": [
    "s = 'xxx // yyy'\n",
    "print(remove_command(s))\n",
    "s = 'xxx /* yyy */ zzz'\n",
    "print(remove_command(s))\n",
    "s = 'xxx cccc bbbb /** yyyy */ zzz'\n",
    "print(remove_command(s))\n",
    "\n",
    "\n",
    "s = 'xxx cccc bbbb /** \\n*y */ zzz'\n",
    "print(remove_command(s))"
   ]
  },
  {
   "cell_type": "code",
   "execution_count": 13,
   "metadata": {},
   "outputs": [
    {
     "name": "stdout",
     "output_type": "stream",
     "text": [
      "/** \n",
      " * Implements the Square Dance game.\n",
      " * the square's size. The 'q' key is used to quit the game.\n",
      " */\n",
      "/** \n",
      " * Implements the Square Dance game.\n",
      " * the square's size. The 'q' key is used to quit the game.\n",
      " */\n"
     ]
    }
   ],
   "source": [
    "s='/** \\n\\\n",
    " * Implements the Square Dance game.\\n\\\n",
    " * the square\\'s size. The \\'q\\' key is used to quit the game.\\n\\\n",
    " */'\n",
    "\n",
    "print(s)\n",
    "\n",
    "# 规则2: /* */ 或 /** */\n",
    "import re\n",
    "re2 = r'/\\*.*\\*/'\n",
    "line = re.sub(re2, '', s)\n",
    "print(line)"
   ]
  },
  {
   "cell_type": "code",
   "execution_count": 25,
   "metadata": {},
   "outputs": [
    {
     "name": "stdout",
     "output_type": "stream",
     "text": [
      "['if', '(', 'x', '<', '0', ')', '{']\n"
     ]
    }
   ],
   "source": [
    "Symbol = {\n",
    "    '{','}','(',')','[',']','. ',', ','; ','+','-','*',\n",
    "    '/','&','|','<','>','=','~'}\n",
    "\n",
    "clean_line = r'if (x < 0) {'\n",
    "# 1. 先使用 symbol字符 和 空白字符 作split，切分line。\n",
    "\n",
    "def merge_temp(arr, temp):\n",
    "    ss = ''.join(temp)\n",
    "    if len(ss)>0:\n",
    "        arr.append(ss)\n",
    "\n",
    "tokens = []\n",
    "for substring in clean_line.split():\n",
    "    temp = []\n",
    "    for s in substring:        \n",
    "        if s in Symbol:\n",
    "            merge_temp(tokens, temp)\n",
    "            tokens.append(s)\n",
    "            temp = []\n",
    "        else:\n",
    "            temp.append(s)\n",
    "    merge_temp(tokens, temp)\n",
    "\n",
    "print(tokens)   \n",
    "            \n",
    "            "
   ]
  },
  {
   "cell_type": "code",
   "execution_count": 46,
   "metadata": {},
   "outputs": [],
   "source": [
    "def split_line(str_line):\n",
    "    def append_cache(arr, ss):\n",
    "        if len(ss) >0:\n",
    "            arr.append(''.join(ss))\n",
    "            \n",
    "    # 改成递归的解法\n",
    "    inquote = False\n",
    "    tokens = []\n",
    "    cache = []\n",
    "    \n",
    "    for s in str_line:\n",
    "        if s == r'\"':\n",
    "            if inquote: # 离开字符串\n",
    "                cache.append(s)\n",
    "                append_cache(tokens, cache)\n",
    "                cache = []\n",
    "                inquote = False\n",
    "                continue    \n",
    "            else: \n",
    "                # 进入字符串\n",
    "                append_cache(tokens, cache) # 清空cache\n",
    "                cache = [s]\n",
    "                inquote = True\n",
    "                continue\n",
    "        \n",
    "        # 对于其他非\"字符   \n",
    "        if inquote: # 字符串内\n",
    "            cache.append(s)\n",
    "            continue\n",
    "        \n",
    "        else: # 字符串外\n",
    "            if s in {' ', '\\t'} : # 空白字符分割\n",
    "                append_cache(tokens, cache)\n",
    "                cache = []\n",
    "                continue\n",
    "\n",
    "            if s in Symbol: # symbol 强分割\n",
    "                append_cache(tokens, cache)\n",
    "                cache = []\n",
    "                tokens.append(s) # add symbol\n",
    "                continue\n",
    "            \n",
    "            cache.append(s)\n",
    "            continue\n",
    "        \n",
    "        print('not hit if any branch',\"[{}]\".format(s))\n",
    "    return tokens"
   ]
  },
  {
   "cell_type": "code",
   "execution_count": 47,
   "metadata": {},
   "outputs": [
    {
     "name": "stdout",
     "output_type": "stream",
     "text": [
      "class Main {\n",
      "['class', 'Main', '{']\n"
     ]
    }
   ],
   "source": [
    "clean_line = r'class Main {'\n",
    "print(clean_line)\n",
    "print(split_line(clean_line))"
   ]
  },
  {
   "cell_type": "code",
   "execution_count": 2,
   "metadata": {},
   "outputs": [
    {
     "name": "stdout",
     "output_type": "stream",
     "text": [
      "1234\n"
     ]
    }
   ],
   "source": [
    "a = '012345'\n",
    "print(a[1:-1])"
   ]
  },
  {
   "cell_type": "code",
   "execution_count": null,
   "metadata": {},
   "outputs": [],
   "source": []
  }
 ],
 "metadata": {
  "kernelspec": {
   "display_name": "d2l",
   "language": "python",
   "name": "python3"
  },
  "language_info": {
   "codemirror_mode": {
    "name": "ipython",
    "version": 3
   },
   "file_extension": ".py",
   "mimetype": "text/x-python",
   "name": "python",
   "nbconvert_exporter": "python",
   "pygments_lexer": "ipython3",
   "version": "3.9.12"
  },
  "orig_nbformat": 4
 },
 "nbformat": 4,
 "nbformat_minor": 2
}
